{
 "cells": [
  {
   "cell_type": "code",
   "execution_count": 1,
   "metadata": {
    "collapsed": true
   },
   "outputs": [],
   "source": [
    "import pandas as pd\n",
    "import numpy as np\n",
    "import matplotlib.pyplot as plt"
   ]
  },
  {
   "cell_type": "code",
   "execution_count": 2,
   "outputs": [],
   "source": [
    "df1 = pd.read_excel('E:/EM/individualTestOfDatasets/features_C_73.xlsx')\n",
    "df2 = pd.read_excel('E:/EM/individualTestOfDatasets/features_R_great.xlsx')\n",
    "df3 = pd.read_excel('E:/EM/individualTestOfDatasets/features_S_great.xlsx')\n",
    "df4 = pd.read_excel('E:/EM/individualTestOfDatasets/features_T.xlsx')"
   ],
   "metadata": {
    "collapsed": false
   }
  },
  {
   "cell_type": "code",
   "execution_count": 3,
   "outputs": [],
   "source": [
    "concatenatedDF = pd.concat([df1, df2, df3, df4], axis=0)"
   ],
   "metadata": {
    "collapsed": false
   }
  },
  {
   "cell_type": "code",
   "execution_count": 6,
   "outputs": [],
   "source": [
    "concatenatedDF.head()\n",
    "concatenatedDF.to_excel(\"featuresFrommAllIndividualCombinedDatasets.xlsx\", index=False)"
   ],
   "metadata": {
    "collapsed": false
   }
  },
  {
   "cell_type": "code",
   "execution_count": 5,
   "outputs": [],
   "source": [
    "featuresofit = np.asarray(concatenatedDF.iloc[:,:-1].values)\n",
    "X = featuresofit\n",
    "labelofit = np.asarray(concatenatedDF['labels'])\n",
    "Y = labelofit"
   ],
   "metadata": {
    "collapsed": false
   }
  },
  {
   "cell_type": "code",
   "execution_count": 6,
   "outputs": [
    {
     "name": "stdout",
     "output_type": "stream",
     "text": [
      "{'angry': 5007, 'happy': 5735, 'neutral': 5525, 'sad': 5476}\n"
     ]
    }
   ],
   "source": [
    "emotionsfromFeatures = concatenatedDF['labels']\n",
    "emotionCountfromFeatures = {}\n",
    "for item in emotionsfromFeatures:\n",
    "    if item in emotionCountfromFeatures:\n",
    "        emotionCountfromFeatures[item] += 1\n",
    "    else:\n",
    "        emotionCountfromFeatures[item] = 1\n",
    "print(emotionCountfromFeatures)"
   ],
   "metadata": {
    "collapsed": false
   }
  },
  {
   "cell_type": "code",
   "execution_count": 7,
   "outputs": [
    {
     "data": {
      "text/plain": "['angry', 'happy', 'neutral', 'sad']"
     },
     "execution_count": 7,
     "metadata": {},
     "output_type": "execute_result"
    },
    {
     "data": {
      "text/plain": "<Figure size 640x480 with 1 Axes>",
      "image/png": "[encoded data removed]"
     },
     "metadata": {},
     "output_type": "display_data"
    }
   ],
   "source": [
    "plt.bar(emotionCountfromFeatures.keys(), emotionCountfromFeatures.values(), width=0.9, align=\"center\",\n",
    "         color=[\"red\",\"purple\",\"orange\",\"green\",\"cyan\",\"blue\",\"yellow\"])\n",
    "plt.xlabel(\"Emotions\")\n",
    "plt.xticks(rotation=90)\n",
    "plt.ylabel(\"Emotions in Number\")\n",
    "plt.title(\"Emotion Count\", size=14, color=\"Blue\")\n",
    "plt.ylim([0, max(emotionCountfromFeatures.values()) + 200])\n",
    "lst = []\n",
    "for item in emotionCountfromFeatures:\n",
    "    plt.text(item, emotionCountfromFeatures[item],\n",
    "             emotionCountfromFeatures[item], ha=\"center\", va=\"bottom\")\n",
    "sorted(emotionCountfromFeatures)\n"
   ],
   "metadata": {
    "collapsed": false
   }
  },
  {
   "cell_type": "code",
   "execution_count": 8,
   "outputs": [
    {
     "data": {
      "text/plain": "((17394, 162), (17394,), (4349, 162), (4349,))"
     },
     "execution_count": 8,
     "metadata": {},
     "output_type": "execute_result"
    }
   ],
   "source": [
    "from sklearn.model_selection import train_test_split\n",
    "\n",
    "x_train, x_test, y_train, y_test = train_test_split(\n",
    "    X, Y, random_state=0, test_size=0.2, shuffle=True)\n",
    "x_train.shape, y_train.shape, x_test.shape, y_test.shape"
   ],
   "metadata": {
    "collapsed": false
   }
  },
  {
   "cell_type": "code",
   "execution_count": 9,
   "outputs": [
    {
     "data": {
      "text/plain": "((17394, 162), (17394,), (4349, 162), (4349,))"
     },
     "execution_count": 9,
     "metadata": {},
     "output_type": "execute_result"
    }
   ],
   "source": [
    "from sklearn.preprocessing import StandardScaler\n",
    "\n",
    "scaler = StandardScaler()\n",
    "# scaler = RobustScaler()\n",
    "x_train = scaler.fit_transform(x_train)\n",
    "x_test = scaler.transform(x_test)\n",
    "x_train.shape, y_train.shape, x_test.shape, y_test.shape"
   ],
   "metadata": {
    "collapsed": false
   }
  },
  {
   "cell_type": "code",
   "execution_count": 10,
   "outputs": [],
   "source": [
    "kernelchoice = [\"rbf\"]\n",
    "# kernelchoice = [\"linear\"]\n",
    "# C_choice = [100, 150, 200, 250, 300]\n",
    "# C_choice = [0.5, 0.6, 0.8, 0.9, 1]\n",
    "C_choice = [0.5, 0.6, 0.8, 0.9, 1,10,50,100]\n",
    "import random"
   ],
   "metadata": {
    "collapsed": false
   }
  },
  {
   "cell_type": "code",
   "execution_count": 11,
   "outputs": [
    {
     "name": "stdout",
     "output_type": "stream",
     "text": [
      "Kernel:  rbf  ||   C: 0.5  ||  Accuracy  :  75.18969878132904\n",
      "Kernel:  rbf  ||   C: 0.6  ||  Accuracy  :  75.5116118647965\n",
      "Kernel:  rbf  ||   C: 0.8  ||  Accuracy  :  75.94849390664521\n",
      "Kernel:  rbf  ||   C: 0.9  ||  Accuracy  :  75.9944814899977\n",
      "Kernel:  rbf  ||   C: 1  ||  Accuracy  :  76.13244424005518\n",
      "Kernel:  rbf  ||   C: 10  ||  Accuracy  :  80.29432053345596\n",
      "Kernel:  rbf  ||   C: 50  ||  Accuracy  :  81.62796045067832\n",
      "Kernel:  rbf  ||   C: 100  ||  Accuracy  :  82.50172453437573\n"
     ]
    }
   ],
   "source": [
    "from sklearn import svm\n",
    "from sklearn.metrics import accuracy_score\n",
    "from sklearn.multiclass import OneVsRestClassifier\n",
    "\n",
    "for i in C_choice:\n",
    "    a=random.choice(kernelchoice)\n",
    "    b=random.choice(C_choice)\n",
    "    classifier = svm.SVC(kernel=a, gamma=\"auto\", C=i)\n",
    "    classifier = OneVsRestClassifier(classifier)\n",
    "    classifier.fit(x_train, y_train)\n",
    "    y_predict = classifier.predict(x_test)\n",
    "    accuracyPercent = accuracy_score(y_test, y_predict) * 100\n",
    "    print(\"Kernel:  \"+ a + \"  ||  \"+\" C: \" + str(i) +\"  ||  Accuracy\"+ \"  :  \" + str(accuracyPercent))"
   ],
   "metadata": {
    "collapsed": false
   }
  },
  {
   "cell_type": "code",
   "execution_count": 12,
   "outputs": [
    {
     "name": "stdout",
     "output_type": "stream",
     "text": [
      "              precision    recall  f1-score   support\n",
      "\n",
      "       angry       0.87      0.83      0.85       975\n",
      "       happy       0.82      0.82      0.82      1197\n",
      "     neutral       0.79      0.84      0.81      1090\n",
      "         sad       0.84      0.81      0.82      1087\n",
      "\n",
      "    accuracy                           0.83      4349\n",
      "   macro avg       0.83      0.83      0.83      4349\n",
      "weighted avg       0.83      0.83      0.83      4349\n",
      "\n"
     ]
    }
   ],
   "source": [
    "from sklearn.metrics import classification_report\n",
    "print(classification_report(y_test, y_predict))"
   ],
   "metadata": {
    "collapsed": false
   }
  },
  {
   "cell_type": "code",
   "execution_count": 13,
   "outputs": [
    {
     "name": "stdout",
     "output_type": "stream",
     "text": [
      "0.8960561113027481\n"
     ]
    }
   ],
   "source": [
    "yPred = classifier.predict(x_train)\n",
    "print(accuracy_score(y_train, yPred))"
   ],
   "metadata": {
    "collapsed": false
   }
  },
  {
   "cell_type": "code",
   "execution_count": 14,
   "outputs": [],
   "source": [
    "# import joblib\n",
    "# joblib.dump(classifier,\"audio_svm_model_AllCombined.joblib\")"
   ],
   "metadata": {
    "collapsed": false
   }
  },
  {
   "cell_type": "code",
   "execution_count": 16,
   "outputs": [
    {
     "name": "stdout",
     "output_type": "stream",
     "text": [
      "Confusion matrix, without normalization\n"
     ]
    },
    {
     "data": {
      "text/plain": "<Figure size 640x480 with 2 Axes>",
      "image/png": "[encoded data removed]"
     },
     "metadata": {},
     "output_type": "display_data"
    }
   ],
   "source": [
    "import itertools\n",
    "import pandas as pd\n",
    "import matplotlib.pyplot as plt\n",
    "from sklearn import svm\n",
    "from sklearn.metrics import accuracy_score, confusion_matrix\n",
    "\n",
    "\n",
    "def plot_confusion_matrix(cm, classes,\n",
    "                          normalize=False,\n",
    "                          title='Confusion matrix',\n",
    "                          cmap=plt.cm.Blues):\n",
    "    if normalize:\n",
    "        cm = cm.astype('float') / cm.sum(axis=1)[:, np.newaxis]\n",
    "        print(\"Normalized confusion matrix\")\n",
    "    else:\n",
    "        print('Confusion matrix, without normalization')\n",
    "\n",
    "    plt.imshow(cm, interpolation='nearest', cmap=cmap)\n",
    "    plt.title(title)\n",
    "    plt.colorbar()\n",
    "    tick_marks = np.arange(len(classes))\n",
    "    plt.xticks(tick_marks, classes, rotation=45)\n",
    "    plt.yticks(tick_marks, classes)\n",
    "\n",
    "    fmt = '.2f' if normalize else 'd'\n",
    "    thresh = cm.max() / 2.\n",
    "    for i, j in itertools.product(range(cm.shape[0]), range(cm.shape[1])):\n",
    "        plt.text(j, i, format(cm[i, j], fmt),\n",
    "                 horizontalalignment=\"center\",\n",
    "                 color=\"white\" if cm[i, j] > thresh else \"black\")\n",
    "\n",
    "    plt.tight_layout()\n",
    "    plt.ylabel('True label')\n",
    "    plt.xlabel('Predicted label')\n",
    "\n",
    "\n",
    "confusion = confusion_matrix(y_test, y_predict)\n",
    "# df_confusion = pd.crosstab(y_test, y_predict, rownames=['True'], colnames=['Predicted'], margins=True)\n",
    "\n",
    "plot_confusion_matrix(confusion, classes=[\"angry\", \"sad\", \"neutral\", \"happy\"],\n",
    "                      title='Confusion Matrix')\n",
    "plt.show()"
   ],
   "metadata": {
    "collapsed": false
   }
  }
 ],
 "metadata": {
  "kernelspec": {
   "display_name": "Python 3",
   "language": "python",
   "name": "python3"
  },
  "language_info": {
   "codemirror_mode": {
    "name": "ipython",
    "version": 2
   },
   "file_extension": ".py",
   "mimetype": "text/x-python",
   "name": "python",
   "nbconvert_exporter": "python",
   "pygments_lexer": "ipython2",
   "version": "2.7.6"
  }
 },
 "nbformat": 4,
 "nbformat_minor": 0
}
